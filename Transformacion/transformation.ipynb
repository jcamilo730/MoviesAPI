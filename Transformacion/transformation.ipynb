{
 "cells": [
  {
   "attachments": {},
   "cell_type": "markdown",
   "metadata": {},
   "source": [
    "TRANSFORMACIONES:\n",
    "\n",
    "    - Generar campo id: Cada id se compondrá de la primera letra del nombre de la plataforma, seguido del show_id ya presente en los datasets (ejemplo para títulos de Amazon = as123)\n",
    "\n",
    "    - Los valores nulos del campo rating deberán reemplazarse por el string “G” (corresponde al maturity rating: “general for all audiences”\n",
    "\n",
    "    - De haber fechas, deberán tener el formato AAAA-mm-dd\n",
    "\n",
    "    - Los campos de texto deberán estar en minúsculas, sin excepciones\n",
    "\n",
    "    - El campo duration debe convertirse en dos campos: duration_int y duration_type. El primero será un integer y el segundo un string indicando la unidad de medición de duración: min (minutos) o season (temporadas)\n"
   ]
  },
  {
   "attachments": {},
   "cell_type": "markdown",
   "metadata": {},
   "source": [
    "CARGA DE DATOS\n",
    "(solo se carga uno a la vez)"
   ]
  },
  {
   "cell_type": "code",
   "execution_count": null,
   "metadata": {},
   "outputs": [],
   "source": [
    "import pandas as pd"
   ]
  },
  {
   "cell_type": "code",
   "execution_count": null,
   "metadata": {},
   "outputs": [],
   "source": [
    "df = pd.read_csv('Datasets_original/amazon_prime_titles-score.csv')\n",
    "platform = 'a'"
   ]
  },
  {
   "cell_type": "code",
   "execution_count": null,
   "metadata": {},
   "outputs": [],
   "source": [
    "df = pd.read_csv('Datasets_original/disney_plus_titles-score.csv')\n",
    "platform = 'd'"
   ]
  },
  {
   "cell_type": "code",
   "execution_count": null,
   "metadata": {},
   "outputs": [],
   "source": [
    "df = pd.read_csv('Datasets_original/hulu_titles-score (2).csv')\n",
    "platform = 'h'"
   ]
  },
  {
   "cell_type": "code",
   "execution_count": null,
   "metadata": {},
   "outputs": [],
   "source": [
    "df = pd.read_csv('Datasets_original/netflix_titles-score.csv')\n",
    "platform = 'n'"
   ]
  },
  {
   "attachments": {},
   "cell_type": "markdown",
   "metadata": {},
   "source": [
    "CAMPO ID"
   ]
  },
  {
   "cell_type": "code",
   "execution_count": null,
   "metadata": {},
   "outputs": [],
   "source": [
    "df['id'] = platform + df['show_id']#remplazar el valor dentro de '' por la primera letra de la plataforma"
   ]
  },
  {
   "attachments": {},
   "cell_type": "markdown",
   "metadata": {},
   "source": [
    "NULOS EN RATING"
   ]
  },
  {
   "cell_type": "code",
   "execution_count": null,
   "metadata": {},
   "outputs": [],
   "source": [
    "df['rating'].fillna('G', inplace=True)"
   ]
  },
  {
   "attachments": {},
   "cell_type": "markdown",
   "metadata": {},
   "source": [
    "FECHAS"
   ]
  },
  {
   "cell_type": "code",
   "execution_count": null,
   "metadata": {},
   "outputs": [],
   "source": [
    "#creamos un metodo para cambiar la fecha al formato pedido\n",
    "def dateTransform(date: str) -> int :\n",
    "     date = date.replace(', ',' ')#eliminamos la coma\n",
    "     dateSplit = date.split()#dividimos la fecha que queda ['mes', dia, año]\n",
    "\n",
    "     #se saca el numero del mes deacuerdo con el nombre\n",
    "     match dateSplit[0]:\n",
    "          case 'January':\n",
    "               monthNum =  1\n",
    "          case 'February':\n",
    "               monthNum =  2\n",
    "          case 'March':\n",
    "               monthNum =  3\n",
    "          case 'April':\n",
    "               monthNum =  4\n",
    "          case 'May':\n",
    "               monthNum =  5\n",
    "          case 'June':\n",
    "               monthNum =  6\n",
    "          case 'July':\n",
    "               monthNum =  7\n",
    "          case 'August':\n",
    "               monthNum =  8\n",
    "          case 'September':\n",
    "               monthNum =  9\n",
    "          case 'October':\n",
    "               monthNum =  10\n",
    "          case 'November':\n",
    "               monthNum =  11\n",
    "          case 'December':\n",
    "               monthNum =  12\n",
    "          case _:\n",
    "               monthNum =  0\n",
    "\n",
    "     #rearmamos la fecha con el formato pedido y la retornamos\n",
    "     date = dateSplit[2] + '-' + str(monthNum) + '-' + dateSplit[1]\n",
    "     return date\n",
    "     \n",
    "#aplicamos el metodo anterior a todas las fechas\n",
    "df['date_added'] = df['date_added'].apply( lambda date: dateTransform(date) if isinstance(date, str) else date )\n"
   ]
  },
  {
   "attachments": {},
   "cell_type": "markdown",
   "metadata": {},
   "source": [
    "MINUSCULAS"
   ]
  },
  {
   "cell_type": "code",
   "execution_count": null,
   "metadata": {},
   "outputs": [],
   "source": [
    "columns = ['id','show_id','type','title','director','cast','country','date_added','release_year','rating','duration','listed_in','description','score']\n",
    "\n",
    "for i in columns:\n",
    "    df[i] = df[i].apply( lambda txt: txt.lower() if isinstance(txt, str) else txt )\n"
   ]
  },
  {
   "attachments": {},
   "cell_type": "markdown",
   "metadata": {},
   "source": [
    "CAMPOS DURACION"
   ]
  },
  {
   "cell_type": "code",
   "execution_count": null,
   "metadata": {},
   "outputs": [],
   "source": [
    "#dividimos duration en duration_int y duration_type\n",
    "duration = df['duration'].str.split(' ', expand=True)\n",
    "df['duration_int'] = duration[0]\n",
    "df['duration_type'] = duration[1]\n",
    "\n",
    "#normalisamos seasson en duration_type\n",
    "df['duration_type'] = df['duration_type'].apply( lambda d_type: 'season' if d_type == 'seasons' else d_type )"
   ]
  },
  {
   "attachments": {},
   "cell_type": "markdown",
   "metadata": {},
   "source": [
    "GUARDAMOS"
   ]
  },
  {
   "cell_type": "code",
   "execution_count": null,
   "metadata": {},
   "outputs": [],
   "source": [
    "#ordenamos las columnas\n",
    "df = df.loc[:,['id','show_id','type','title','director','cast','country','date_added','release_year','rating','duration_int','duration_type','listed_in','description','score']]\n",
    "\n",
    "#agregamos el dataset limpio al archivo nuevo\n",
    "df.to_csv('Datasets_Limpio/platformsTitles.csv', sep=';', mode='a', index=False, header=False)"
   ]
  }
 ],
 "metadata": {
  "kernelspec": {
   "display_name": "Python 3",
   "language": "python",
   "name": "python3"
  },
  "language_info": {
   "codemirror_mode": {
    "name": "ipython",
    "version": 3
   },
   "file_extension": ".py",
   "mimetype": "text/x-python",
   "name": "python",
   "nbconvert_exporter": "python",
   "pygments_lexer": "ipython3",
   "version": "3.10.6"
  },
  "orig_nbformat": 4,
  "vscode": {
   "interpreter": {
    "hash": "916dbcbb3f70747c44a77c7bcd40155683ae19c65e1c03b4aa3499c5328201f1"
   }
  }
 },
 "nbformat": 4,
 "nbformat_minor": 2
}
